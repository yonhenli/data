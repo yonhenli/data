{
 "cells": [
  {
   "cell_type": "markdown",
   "metadata": {},
   "source": [
    "### Import the Dataset"
   ]
  },
  {
   "cell_type": "code",
   "execution_count": 1,
   "metadata": {},
   "outputs": [],
   "source": [
    "# import common libraries\n",
    "import math\n",
    "import pandas as pd\n",
    "import numpy as np\n",
    "import matplotlib\n",
    "import matplotlib.pyplot as plt\n",
    "\n",
    "# import lifetime packages\n",
    "from lifetimes import BetaGeoFitter\n",
    "from lifetimes import GammaGammaFitter\n",
    "from lifetimes import ModifiedBetaGeoFitter\n",
    "from lifetimes.plotting import plot_frequency_recency_matrix\n",
    "from lifetimes.plotting import plot_probability_alive_matrix\n",
    "from lifetimes.plotting import plot_period_transactions\n",
    "from lifetimes.plotting import plot_calibration_purchases_vs_holdout_purchases\n",
    "from lifetimes.plotting import plot_history_alive\n",
    "from lifetimes.plotting import plot_expected_repeat_purchases\n",
    "from lifetimes.plotting import plot_cumulative_transactions\n",
    "from lifetimes.plotting import plot_transaction_rate_heterogeneity\n",
    "from lifetimes.plotting import plot_dropout_rate_heterogeneity\n",
    "from lifetimes.utils import summary_data_from_transaction_data\n",
    "from lifetimes.utils import calibration_and_holdout_data\n",
    "from lifetimes.datasets import load_cdnow_summary_data_with_monetary_value\n",
    "from lifetimes.generate_data import modified_beta_geometric_nbd_model"
   ]
  },
  {
   "cell_type": "code",
   "execution_count": 2,
   "metadata": {},
   "outputs": [],
   "source": [
    "# import data\n",
    "data = pd.read_csv('data-science-exercise-data.csv')"
   ]
  },
  {
   "cell_type": "code",
   "execution_count": 3,
   "metadata": {},
   "outputs": [],
   "source": [
    "# make a copy of the original data\n",
    "df = data"
   ]
  },
  {
   "cell_type": "code",
   "execution_count": 4,
   "metadata": {},
   "outputs": [
    {
     "data": {
      "text/html": [
       "<div>\n",
       "<style scoped>\n",
       "    .dataframe tbody tr th:only-of-type {\n",
       "        vertical-align: middle;\n",
       "    }\n",
       "\n",
       "    .dataframe tbody tr th {\n",
       "        vertical-align: top;\n",
       "    }\n",
       "\n",
       "    .dataframe thead th {\n",
       "        text-align: right;\n",
       "    }\n",
       "</style>\n",
       "<table border=\"1\" class=\"dataframe\">\n",
       "  <thead>\n",
       "    <tr style=\"text-align: right;\">\n",
       "      <th></th>\n",
       "      <th>CustomerID</th>\n",
       "      <th>Timestamp</th>\n",
       "      <th>PurchaseValue</th>\n",
       "    </tr>\n",
       "  </thead>\n",
       "  <tbody>\n",
       "    <tr>\n",
       "      <th>0</th>\n",
       "      <td>5611860a94204a4078659f1667372cc4</td>\n",
       "      <td>2017-02-09T18:31:00Z</td>\n",
       "      <td>4.72</td>\n",
       "    </tr>\n",
       "    <tr>\n",
       "      <th>1</th>\n",
       "      <td>07b260307114f9cffc5601eb7ad4b565</td>\n",
       "      <td>2017-06-28T19:26:00Z</td>\n",
       "      <td>5.33</td>\n",
       "    </tr>\n",
       "    <tr>\n",
       "      <th>2</th>\n",
       "      <td>1ede55062d0d68c70fc4d355a5328d11</td>\n",
       "      <td>2017-07-28T17:47:00Z</td>\n",
       "      <td>5.35</td>\n",
       "    </tr>\n",
       "    <tr>\n",
       "      <th>3</th>\n",
       "      <td>42b8e86e8da5e35628bcdc146c358665</td>\n",
       "      <td>2016-12-17T22:59:00Z</td>\n",
       "      <td>6.00</td>\n",
       "    </tr>\n",
       "    <tr>\n",
       "      <th>4</th>\n",
       "      <td>1047f2787b7efc759d7ffcbc40ef7e19</td>\n",
       "      <td>2016-12-05T17:23:00Z</td>\n",
       "      <td>6.28</td>\n",
       "    </tr>\n",
       "  </tbody>\n",
       "</table>\n",
       "</div>"
      ],
      "text/plain": [
       "                         CustomerID             Timestamp  PurchaseValue\n",
       "0  5611860a94204a4078659f1667372cc4  2017-02-09T18:31:00Z           4.72\n",
       "1  07b260307114f9cffc5601eb7ad4b565  2017-06-28T19:26:00Z           5.33\n",
       "2  1ede55062d0d68c70fc4d355a5328d11  2017-07-28T17:47:00Z           5.35\n",
       "3  42b8e86e8da5e35628bcdc146c358665  2016-12-17T22:59:00Z           6.00\n",
       "4  1047f2787b7efc759d7ffcbc40ef7e19  2016-12-05T17:23:00Z           6.28"
      ]
     },
     "execution_count": 4,
     "metadata": {},
     "output_type": "execute_result"
    }
   ],
   "source": [
    "# check basic info\n",
    "df.head()"
   ]
  },
  {
   "cell_type": "code",
   "execution_count": 5,
   "metadata": {},
   "outputs": [
    {
     "name": "stdout",
     "output_type": "stream",
     "text": [
      "<class 'pandas.core.frame.DataFrame'>\n",
      "RangeIndex: 49945 entries, 0 to 49944\n",
      "Data columns (total 3 columns):\n",
      "CustomerID       49945 non-null object\n",
      "Timestamp        49945 non-null object\n",
      "PurchaseValue    49945 non-null float64\n",
      "dtypes: float64(1), object(2)\n",
      "memory usage: 1.1+ MB\n"
     ]
    }
   ],
   "source": [
    "# check basic info\n",
    "df.info()"
   ]
  },
  {
   "cell_type": "code",
   "execution_count": 6,
   "metadata": {},
   "outputs": [
    {
     "data": {
      "text/html": [
       "<div>\n",
       "<style scoped>\n",
       "    .dataframe tbody tr th:only-of-type {\n",
       "        vertical-align: middle;\n",
       "    }\n",
       "\n",
       "    .dataframe tbody tr th {\n",
       "        vertical-align: top;\n",
       "    }\n",
       "\n",
       "    .dataframe thead th {\n",
       "        text-align: right;\n",
       "    }\n",
       "</style>\n",
       "<table border=\"1\" class=\"dataframe\">\n",
       "  <thead>\n",
       "    <tr style=\"text-align: right;\">\n",
       "      <th></th>\n",
       "      <th>PurchaseValue</th>\n",
       "    </tr>\n",
       "  </thead>\n",
       "  <tbody>\n",
       "    <tr>\n",
       "      <th>count</th>\n",
       "      <td>49945.000000</td>\n",
       "    </tr>\n",
       "    <tr>\n",
       "      <th>mean</th>\n",
       "      <td>236.888196</td>\n",
       "    </tr>\n",
       "    <tr>\n",
       "      <th>std</th>\n",
       "      <td>245.760987</td>\n",
       "    </tr>\n",
       "    <tr>\n",
       "      <th>min</th>\n",
       "      <td>4.720000</td>\n",
       "    </tr>\n",
       "    <tr>\n",
       "      <th>25%</th>\n",
       "      <td>97.100000</td>\n",
       "    </tr>\n",
       "    <tr>\n",
       "      <th>50%</th>\n",
       "      <td>166.660000</td>\n",
       "    </tr>\n",
       "    <tr>\n",
       "      <th>75%</th>\n",
       "      <td>286.790000</td>\n",
       "    </tr>\n",
       "    <tr>\n",
       "      <th>max</th>\n",
       "      <td>11599.680000</td>\n",
       "    </tr>\n",
       "  </tbody>\n",
       "</table>\n",
       "</div>"
      ],
      "text/plain": [
       "       PurchaseValue\n",
       "count   49945.000000\n",
       "mean      236.888196\n",
       "std       245.760987\n",
       "min         4.720000\n",
       "25%        97.100000\n",
       "50%       166.660000\n",
       "75%       286.790000\n",
       "max     11599.680000"
      ]
     },
     "execution_count": 6,
     "metadata": {},
     "output_type": "execute_result"
    }
   ],
   "source": [
    "# check stats\n",
    "df.describe()"
   ]
  },
  {
   "cell_type": "code",
   "execution_count": 7,
   "metadata": {},
   "outputs": [],
   "source": [
    "# change the date attribute from object to datetime\n",
    "df['Timestamp'] = pd.to_datetime(df['Timestamp'])"
   ]
  },
  {
   "cell_type": "markdown",
   "metadata": {},
   "source": [
    "### Exploratory Data Analysis"
   ]
  },
  {
   "cell_type": "code",
   "execution_count": 8,
   "metadata": {},
   "outputs": [
    {
     "data": {
      "text/plain": [
       "(49945, 3)"
      ]
     },
     "execution_count": 8,
     "metadata": {},
     "output_type": "execute_result"
    }
   ],
   "source": [
    "# total number of transactions \n",
    "df.shape"
   ]
  },
  {
   "cell_type": "code",
   "execution_count": 9,
   "metadata": {},
   "outputs": [
    {
     "data": {
      "text/plain": [
       "(23708,)"
      ]
     },
     "execution_count": 9,
     "metadata": {},
     "output_type": "execute_result"
    }
   ],
   "source": [
    "# number of customers : \n",
    "df.groupby(['CustomerID']).size().shape"
   ]
  },
  {
   "cell_type": "code",
   "execution_count": 10,
   "metadata": {},
   "outputs": [
    {
     "name": "stdout",
     "output_type": "stream",
     "text": [
      "begin:  2016-11-30 04:47:00\n",
      "end:  2017-12-06 17:53:00\n"
     ]
    }
   ],
   "source": [
    "# date range of the dataset:\n",
    "print(\"begin: \", df['Timestamp'].min())\n",
    "print(\"end: \", df['Timestamp'].max())"
   ]
  },
  {
   "cell_type": "code",
   "execution_count": 11,
   "metadata": {},
   "outputs": [
    {
     "data": {
      "text/plain": [
       "<matplotlib.axes._subplots.AxesSubplot at 0x7fd3ccb79978>"
      ]
     },
     "execution_count": 11,
     "metadata": {},
     "output_type": "execute_result"
    },
    {
     "data": {
      "image/png": "[encoded data removed]",
      "text/plain": [
       "<Figure size 432x288 with 1 Axes>"
      ]
     },
     "metadata": {},
     "output_type": "display_data"
    }
   ],
   "source": [
    "# Time series of the number of transactions (daily)\n",
    "ts_transactions = df.groupby(['Timestamp']).size()\n",
    "plt.ylabel('Transaction Count')\n",
    "ts_transactions.plot()"
   ]
  },
  {
   "cell_type": "markdown",
   "metadata": {},
   "source": [
    "As we can see from the graph, the transaction count has seasonality. There are four peaks of transaction count with the highest time around 2017-04."
   ]
  },
  {
   "cell_type": "code",
   "execution_count": 12,
   "metadata": {},
   "outputs": [
    {
     "data": {
      "text/html": [
       "<div>\n",
       "<style scoped>\n",
       "    .dataframe tbody tr th:only-of-type {\n",
       "        vertical-align: middle;\n",
       "    }\n",
       "\n",
       "    .dataframe tbody tr th {\n",
       "        vertical-align: top;\n",
       "    }\n",
       "\n",
       "    .dataframe thead th {\n",
       "        text-align: right;\n",
       "    }\n",
       "</style>\n",
       "<table border=\"1\" class=\"dataframe\">\n",
       "  <thead>\n",
       "    <tr style=\"text-align: right;\">\n",
       "      <th></th>\n",
       "      <th>CustomerID</th>\n",
       "      <th>Timestamp</th>\n",
       "      <th>PurchaseValue</th>\n",
       "      <th>shifted_date</th>\n",
       "      <th>IPT</th>\n",
       "    </tr>\n",
       "  </thead>\n",
       "  <tbody>\n",
       "    <tr>\n",
       "      <th>10498</th>\n",
       "      <td>0001117ff1305c1fe840697166e61564</td>\n",
       "      <td>2016-12-27 21:05:00</td>\n",
       "      <td>88.25</td>\n",
       "      <td>2017-01-07 15:14:00</td>\n",
       "      <td>10</td>\n",
       "    </tr>\n",
       "    <tr>\n",
       "      <th>5047</th>\n",
       "      <td>0003f3458a6e7b495a975c2d9ddda559</td>\n",
       "      <td>2016-12-28 22:14:00</td>\n",
       "      <td>68.28</td>\n",
       "      <td>2016-12-30 19:00:00</td>\n",
       "      <td>1</td>\n",
       "    </tr>\n",
       "    <tr>\n",
       "      <th>6838</th>\n",
       "      <td>0003f3458a6e7b495a975c2d9ddda559</td>\n",
       "      <td>2016-12-30 19:00:00</td>\n",
       "      <td>76.63</td>\n",
       "      <td>2017-10-09 20:26:00</td>\n",
       "      <td>283</td>\n",
       "    </tr>\n",
       "    <tr>\n",
       "      <th>39914</th>\n",
       "      <td>0008e6b90a8f191089e8a0757fabf968</td>\n",
       "      <td>2017-09-20 14:57:00</td>\n",
       "      <td>323.95</td>\n",
       "      <td>2017-11-28 20:35:00</td>\n",
       "      <td>69</td>\n",
       "    </tr>\n",
       "    <tr>\n",
       "      <th>5640</th>\n",
       "      <td>00090b9fa28029c4839ca0a0306b6b11</td>\n",
       "      <td>2017-09-15 04:02:00</td>\n",
       "      <td>69.44</td>\n",
       "      <td>2017-11-15 02:22:00</td>\n",
       "      <td>60</td>\n",
       "    </tr>\n",
       "  </tbody>\n",
       "</table>\n",
       "</div>"
      ],
      "text/plain": [
       "                             CustomerID           Timestamp  PurchaseValue  \\\n",
       "10498  0001117ff1305c1fe840697166e61564 2016-12-27 21:05:00          88.25   \n",
       "5047   0003f3458a6e7b495a975c2d9ddda559 2016-12-28 22:14:00          68.28   \n",
       "6838   0003f3458a6e7b495a975c2d9ddda559 2016-12-30 19:00:00          76.63   \n",
       "39914  0008e6b90a8f191089e8a0757fabf968 2017-09-20 14:57:00         323.95   \n",
       "5640   00090b9fa28029c4839ca0a0306b6b11 2017-09-15 04:02:00          69.44   \n",
       "\n",
       "             shifted_date  IPT  \n",
       "10498 2017-01-07 15:14:00   10  \n",
       "5047  2016-12-30 19:00:00    1  \n",
       "6838  2017-10-09 20:26:00  283  \n",
       "39914 2017-11-28 20:35:00   69  \n",
       "5640  2017-11-15 02:22:00   60  "
      ]
     },
     "execution_count": 12,
     "metadata": {},
     "output_type": "execute_result"
    }
   ],
   "source": [
    "# let's take a look at the typical inter-purchase time and IPT distribution.\n",
    "def shift_date(x): \n",
    "    x['shifted_date'] = x['Timestamp'].shift(-1) \n",
    "    return x\n",
    "\n",
    "# We'll apply a shift of -1 between the 'date' column and a newly shifted date column shift_date. \n",
    "# That way, we'll be able to subtract date from shifted_date at the customer level and compute \n",
    "# the inter purchase time (IPT) directly : \n",
    "transactions_tmp = df.sort_values(['Timestamp']).\\\n",
    "                        groupby(['CustomerID'], as_index=True).apply(shift_date)    \n",
    "\n",
    "# let's re-order by customer and date : \n",
    "transactions_tmp.sort_values(['CustomerID','Timestamp'], ascending=True, inplace=True)\n",
    "transactions_tmp.dropna(inplace=True)\n",
    "\n",
    "# compute the IPT in days : \n",
    "transactions_tmp['IPT'] = (transactions_tmp['shifted_date'] - transactions_tmp['Timestamp']).apply(lambda x : x.days)\n",
    "\n",
    "transactions_tmp.head(5)"
   ]
  },
  {
   "cell_type": "code",
   "execution_count": 13,
   "metadata": {},
   "outputs": [
    {
     "data": {
      "text/plain": [
       "52.24575980485574"
      ]
     },
     "execution_count": 13,
     "metadata": {},
     "output_type": "execute_result"
    }
   ],
   "source": [
    "# let's print the mean IPT. Our training period of 365 days is long enough. \n",
    "transactions_tmp['IPT'].mean()"
   ]
  },
  {
   "cell_type": "code",
   "execution_count": 14,
   "metadata": {},
   "outputs": [
    {
     "data": {
      "text/plain": [
       "(0, 270)"
      ]
     },
     "execution_count": 14,
     "metadata": {},
     "output_type": "execute_result"
    },
    {
     "data": {
      "image/png": "[encoded data removed]",
      "text/plain": [
       "<Figure size 432x288 with 1 Axes>"
      ]
     },
     "metadata": {},
     "output_type": "display_data"
    }
   ],
   "source": [
    "# distribution of IPT : \n",
    "transactions_tmp['IPT'].hist(bins=40)\n",
    "plt.yscale('log')\n",
    "plt.xlabel('IPT (days)') \n",
    "plt.ylabel('Number of Purchases') \n",
    "\n",
    "# 275 (365-90) days to avoid right censorship issues. \n",
    "plt.xlim([0,270])"
   ]
  },
  {
   "cell_type": "code",
   "execution_count": 15,
   "metadata": {},
   "outputs": [
    {
     "name": "stdout",
     "output_type": "stream",
     "text": [
      "Minimum of Purchases:  1\n",
      "Maximum of Purchases:  135\n"
     ]
    },
    {
     "data": {
      "text/plain": [
       "Text(0,0.5,'Number of Customers')"
      ]
     },
     "execution_count": 15,
     "metadata": {},
     "output_type": "execute_result"
    },
    {
     "data": {
      "image/png": "[encoded data removed]",
      "text/plain": [
       "<Figure size 432x288 with 1 Axes>"
      ]
     },
     "metadata": {},
     "output_type": "display_data"
    }
   ],
   "source": [
    "# Let's look at the distribution of the number of purchases per customer : \n",
    "\n",
    "n_purchases = df.groupby(['CustomerID']).size()\n",
    "print(\"Minimum of Purchases: \", n_purchases.min(axis=0))\n",
    "print(\"Maximum of Purchases: \", n_purchases.max(axis=0))\n",
    "n_purchases.hist(bins=((n_purchases.max(axis=0) - n_purchases.min(axis=0)) + 1))\n",
    "plt.xlabel('Number of Purchases')\n",
    "plt.ylabel('Number of Customers')"
   ]
  },
  {
   "cell_type": "code",
   "execution_count": 16,
   "metadata": {},
   "outputs": [
    {
     "data": {
      "text/plain": [
       "Text(0,0.5,'Number of Customers')"
      ]
     },
     "execution_count": 16,
     "metadata": {},
     "output_type": "execute_result"
    },
    {
     "data": {
      "image/png": "[encoded data removed]",
      "text/plain": [
       "<Figure size 432x288 with 1 Axes>"
      ]
     },
     "metadata": {},
     "output_type": "display_data"
    }
   ],
   "source": [
    "# scale the graph to get more accurate information\n",
    "n_purchases.hist(bins=((n_purchases.max(axis=0) - n_purchases.min(axis=0)) + 1), range=(1,20))\n",
    "plt.xlabel('Number of Purchases')\n",
    "plt.ylabel('Number of Customers')"
   ]
  },
  {
   "cell_type": "markdown",
   "metadata": {},
   "source": [
    "We can see that more than 54% (13000 / 23708) only made a single purchase in the 1 year period covered by the dataset."
   ]
  },
  {
   "cell_type": "markdown",
   "metadata": {},
   "source": [
    "### 1. Modified BG Model Implementation\n",
    "###### Implement the modified BG model from the lifetimes package using the data we provide."
   ]
  },
  {
   "cell_type": "markdown",
   "metadata": {},
   "source": [
    "###### Compute RFM dataframe\n",
    "We will resample the original dataset to get recency-frequency-monetary value (RFM) object.\n",
    "* Recency: the number of days between first and last purchase \n",
    "* Frequency: repeat frequency during the observation period, i.e. the number of purchases beyond the initial one (repeat frequency = purchase counts - 1)\n",
    "* Monetary Value : mean of all the transactions in the observation period\n",
    "* T : time between first purchase and end of observation period"
   ]
  },
  {
   "cell_type": "code",
   "execution_count": 17,
   "metadata": {},
   "outputs": [],
   "source": [
    "# use the library method from the lifetimes package\n",
    "summary = summary_data_from_transaction_data(df, 'CustomerID', 'Timestamp', monetary_value_col='PurchaseValue')"
   ]
  },
  {
   "cell_type": "code",
   "execution_count": 18,
   "metadata": {},
   "outputs": [
    {
     "data": {
      "text/html": [
       "<div>\n",
       "<style scoped>\n",
       "    .dataframe tbody tr th:only-of-type {\n",
       "        vertical-align: middle;\n",
       "    }\n",
       "\n",
       "    .dataframe tbody tr th {\n",
       "        vertical-align: top;\n",
       "    }\n",
       "\n",
       "    .dataframe thead th {\n",
       "        text-align: right;\n",
       "    }\n",
       "</style>\n",
       "<table border=\"1\" class=\"dataframe\">\n",
       "  <thead>\n",
       "    <tr style=\"text-align: right;\">\n",
       "      <th></th>\n",
       "      <th>frequency</th>\n",
       "      <th>recency</th>\n",
       "      <th>T</th>\n",
       "      <th>monetary_value</th>\n",
       "    </tr>\n",
       "    <tr>\n",
       "      <th>CustomerID</th>\n",
       "      <th></th>\n",
       "      <th></th>\n",
       "      <th></th>\n",
       "      <th></th>\n",
       "    </tr>\n",
       "  </thead>\n",
       "  <tbody>\n",
       "    <tr>\n",
       "      <th>0001117ff1305c1fe840697166e61564</th>\n",
       "      <td>1.0</td>\n",
       "      <td>11.0</td>\n",
       "      <td>344.0</td>\n",
       "      <td>87.280</td>\n",
       "    </tr>\n",
       "    <tr>\n",
       "      <th>00028502859fd7e111d88c20456b59d5</th>\n",
       "      <td>0.0</td>\n",
       "      <td>0.0</td>\n",
       "      <td>342.0</td>\n",
       "      <td>0.000</td>\n",
       "    </tr>\n",
       "    <tr>\n",
       "      <th>000306d200fd6e9b03de48d15348f5c2</th>\n",
       "      <td>0.0</td>\n",
       "      <td>0.0</td>\n",
       "      <td>33.0</td>\n",
       "      <td>0.000</td>\n",
       "    </tr>\n",
       "    <tr>\n",
       "      <th>0003f3458a6e7b495a975c2d9ddda559</th>\n",
       "      <td>2.0</td>\n",
       "      <td>285.0</td>\n",
       "      <td>343.0</td>\n",
       "      <td>88.065</td>\n",
       "    </tr>\n",
       "    <tr>\n",
       "      <th>000784b838b807ad589d4bc69c0c562f</th>\n",
       "      <td>0.0</td>\n",
       "      <td>0.0</td>\n",
       "      <td>210.0</td>\n",
       "      <td>0.000</td>\n",
       "    </tr>\n",
       "  </tbody>\n",
       "</table>\n",
       "</div>"
      ],
      "text/plain": [
       "                                  frequency  recency      T  monetary_value\n",
       "CustomerID                                                                 \n",
       "0001117ff1305c1fe840697166e61564        1.0     11.0  344.0          87.280\n",
       "00028502859fd7e111d88c20456b59d5        0.0      0.0  342.0           0.000\n",
       "000306d200fd6e9b03de48d15348f5c2        0.0      0.0   33.0           0.000\n",
       "0003f3458a6e7b495a975c2d9ddda559        2.0    285.0  343.0          88.065\n",
       "000784b838b807ad589d4bc69c0c562f        0.0      0.0  210.0           0.000"
      ]
     },
     "execution_count": 18,
     "metadata": {},
     "output_type": "execute_result"
    }
   ],
   "source": [
    "# summary info\n",
    "summary.head()"
   ]
  },
  {
   "cell_type": "code",
   "execution_count": 19,
   "metadata": {},
   "outputs": [
    {
     "name": "stdout",
     "output_type": "stream",
     "text": [
      "frequency           2.000\n",
      "recency           285.000\n",
      "T                 343.000\n",
      "monetary_value     88.065\n",
      "Name: 0003f3458a6e7b495a975c2d9ddda559, dtype: float64\n",
      "-------------------------------------------------------------------\n",
      "                                           Timestamp  PurchaseValue\n",
      "CustomerID                                                         \n",
      "0003f3458a6e7b495a975c2d9ddda559 2016-12-28 22:14:00          68.28\n",
      "0003f3458a6e7b495a975c2d9ddda559 2016-12-30 19:00:00          76.63\n",
      "0003f3458a6e7b495a975c2d9ddda559 2017-10-09 20:26:00          99.50\n"
     ]
    }
   ],
   "source": [
    "# summary info for Customer '0003f3458a6e7b495a975c2d9ddda559'\n",
    "print(summary.loc['0003f3458a6e7b495a975c2d9ddda559'])\n",
    "\n",
    "print('-------------------------------------------------------------------')\n",
    "\n",
    "# original info for Customer '0003f3458a6e7b495a975c2d9ddda559'\n",
    "df_check = df.set_index([\"CustomerID\"])\n",
    "print(df_check.loc['0003f3458a6e7b495a975c2d9ddda559'])"
   ]
  },
  {
   "cell_type": "markdown",
   "metadata": {},
   "source": [
    "As we can see, the summary for the customer matches the original data. it only counts those repeat purchases."
   ]
  },
  {
   "cell_type": "code",
   "execution_count": 20,
   "metadata": {},
   "outputs": [
    {
     "data": {
      "text/plain": [
       "<lifetimes.ModifiedBetaGeoFitter: fitted with 23708 subjects, a: 0.54, alpha: 85.27, b: 1.45, r: 0.79>"
      ]
     },
     "execution_count": 20,
     "metadata": {},
     "output_type": "execute_result"
    }
   ],
   "source": [
    "# fit modified BG/NBD model\n",
    "mbg = ModifiedBetaGeoFitter(penalizer_coef=0.0)\n",
    "mbg.fit(summary['frequency'], summary['recency'], summary['T'])"
   ]
  },
  {
   "cell_type": "markdown",
   "metadata": {},
   "source": [
    "### 2. Purchase Prediction\n",
    "###### List the 100 customers predicted to make the most purchases over the next 12 months."
   ]
  },
  {
   "cell_type": "code",
   "execution_count": 21,
   "metadata": {},
   "outputs": [],
   "source": [
    "# conditional_expected_number_of_purchases_up_to_time()\n",
    "t = 365\n",
    "summary['predicted_purchases'] = mbg.conditional_expected_number_of_purchases_up_to_time(\n",
    "                                 t, summary['frequency'], summary['recency'], summary['T'])\n",
    "conditional_top_100_purchases_customers = summary.sort_values(by='predicted_purchases', ascending=False).head(100)[['predicted_purchases']]"
   ]
  },
  {
   "cell_type": "code",
   "execution_count": 22,
   "metadata": {},
   "outputs": [
    {
     "name": "stdout",
     "output_type": "stream",
     "text": [
      "                                  predicted_purchases\n",
      "CustomerID                                           \n",
      "a5fadc51b1ae844ad9a70ad3cfa46a64            64.473045\n",
      "48a503edbaded96a3be27deee11967a1            30.920498\n",
      "9f447f9415a380ac2eeee7df49c6ee7e            25.950992\n",
      "5f01420f0edda6555df5ce1cc62b986c            25.056584\n",
      "8d2ce54737dd404d20cadf1405d46dc8            22.918350\n",
      "a62a17bb46864da2c6da691d838971b3            20.753425\n",
      "3b11478939967e896ae2619615650f97            20.734327\n",
      "2ad9a83ee23110d8c2f4c01600b94f20            19.943022\n",
      "75fda9ea22086bf3814ff8c3f53de8ca            19.602557\n",
      "30aa99d3357244cf38ca04eadef1473a            18.891253\n",
      "5ac5ed64cd99ed2a8403b7a927e644ef            17.918496\n",
      "a719d6643a7832535de9aded2f467825            17.748851\n",
      "a1c8d419a97af1f7152e21c0dddfcbce            16.515746\n",
      "cdf642859ae8d9a1e489c3a655cba827            16.322418\n",
      "ed2b4332b3ca253cfbb0ffb54d3f5ae0            16.258644\n",
      "880474a82e33389ae7f377b2ea35bbdd            15.678440\n",
      "ca2202a96c2de6ca6b8a37a4a73fa730            15.618862\n",
      "16134915d822fe17588ae585935e1e81            15.293553\n",
      "f6a4f156c817ecb376d678f2aafdc570            15.255736\n",
      "742d5a52d4df7cb14246d7f390de5d8a            14.485421\n",
      "e675875db3648ab4dbbd52768296425c            14.309939\n",
      "663b3df249f614305792ec7bf1dead30            14.226657\n",
      "bb5d927e9f1aefa4db1881579e055a3e            14.099933\n",
      "61d2370d7ccfe63adf6ab388d7415dc2            13.860445\n",
      "9cb19c3fc7311aae01cf16571b528001            13.813897\n",
      "4f672b7c5d7a4214b08ec6906163c980            13.663201\n",
      "ca5cc4f526fcff10e85ce2685999e2c1            13.595730\n",
      "2b75f007b50d6b21e1501f47dc8d632b            13.539498\n",
      "cd1751286a561d51655ee47246b3019d            13.471375\n",
      "7108b2bb5964a79ee1e6c8a9acde8107            13.319878\n",
      "...                                               ...\n",
      "c505f6e87ff9782ba4ca791ae088f329            10.331374\n",
      "14f57af72e3d2a16b7b4c088cbe3196f            10.248565\n",
      "13cb5c06f8d3c1c18e14539c16088e21            10.240119\n",
      "1200a4df001756f0fc97e0142c069442            10.209516\n",
      "922bdaa119d44065b17b0447255646ae            10.191918\n",
      "bcf0ea738c6bb798b7d05f2603f8fccf            10.129871\n",
      "6d61ac78f193cf9237f3ebfeede61704            10.126779\n",
      "d0ad6b624dfc37784a755144be8c76a6            10.122507\n",
      "15e20f36220dd72101f937433465f328            10.117442\n",
      "25e5fe3494dcb7d0de25fcd6f6b499d9            10.098500\n",
      "47810b7c7fc24d3cf8287d03de62448b            10.086927\n",
      "80ed49605a244a6b8df7a0185125075d            10.085074\n",
      "b32f83615c36a983c147d57d68f20804            10.060989\n",
      "a92534133444b5028d12a129b1b128f7            10.049638\n",
      "d88c16f53bf1f538e5dad005530611a9             9.970509\n",
      "52558a8c536649d21e274da275ce1c8e             9.938849\n",
      "326ede7ae03f35a1c596fd5e9029586f             9.918485\n",
      "2da10b67a4882e14d257c728eda763c3             9.911165\n",
      "0b937997e6f55b43f95a14c1c6fe94e2             9.888623\n",
      "51b3b64735d01118ff09427f8082277a             9.850017\n",
      "feeb6791f303fd34059c06d368f218e3             9.796899\n",
      "6116c18166249fed2e39ee8f3a0733cf             9.778439\n",
      "052a3c248db5edab01d32871d5acdbfa             9.760071\n",
      "9459310958c7741a71359ef3a151b9ed             9.756093\n",
      "4278f21f39173ebb616faa118c22384a             9.752175\n",
      "bcf1f968bf4bf2b9241f77366a4aee86             9.741513\n",
      "42059a7ede026d409ff0f255635d7a08             9.738180\n",
      "ea623f715c09492b8a565e2b8dfff305             9.689932\n",
      "e3a48ef6277d4ee1f0dffe0b50cc9a99             9.666534\n",
      "51bf88a0aaf6da3d94ab246c9c857017             9.610428\n",
      "\n",
      "[100 rows x 1 columns]\n"
     ]
    }
   ],
   "source": [
    "# list the 100 customers predicted to make the most purchases over the next 12 months.\n",
    "print(conditional_top_100_purchases_customers)"
   ]
  },
  {
   "cell_type": "markdown",
   "metadata": {},
   "source": [
    "### 3. Spending Prediction\n",
    "###### List the 100 customers predicted to spend the most over the next 12 months."
   ]
  },
  {
   "cell_type": "code",
   "execution_count": 23,
   "metadata": {},
   "outputs": [
    {
     "data": {
      "text/html": [
       "<div>\n",
       "<style scoped>\n",
       "    .dataframe tbody tr th:only-of-type {\n",
       "        vertical-align: middle;\n",
       "    }\n",
       "\n",
       "    .dataframe tbody tr th {\n",
       "        vertical-align: top;\n",
       "    }\n",
       "\n",
       "    .dataframe thead th {\n",
       "        text-align: right;\n",
       "    }\n",
       "</style>\n",
       "<table border=\"1\" class=\"dataframe\">\n",
       "  <thead>\n",
       "    <tr style=\"text-align: right;\">\n",
       "      <th></th>\n",
       "      <th>frequency</th>\n",
       "      <th>recency</th>\n",
       "      <th>T</th>\n",
       "      <th>monetary_value</th>\n",
       "      <th>predicted_purchases</th>\n",
       "    </tr>\n",
       "    <tr>\n",
       "      <th>CustomerID</th>\n",
       "      <th></th>\n",
       "      <th></th>\n",
       "      <th></th>\n",
       "      <th></th>\n",
       "      <th></th>\n",
       "    </tr>\n",
       "  </thead>\n",
       "  <tbody>\n",
       "    <tr>\n",
       "      <th>0001117ff1305c1fe840697166e61564</th>\n",
       "      <td>1.0</td>\n",
       "      <td>11.0</td>\n",
       "      <td>344.0</td>\n",
       "      <td>87.280</td>\n",
       "      <td>0.320257</td>\n",
       "    </tr>\n",
       "    <tr>\n",
       "      <th>00028502859fd7e111d88c20456b59d5</th>\n",
       "      <td>0.0</td>\n",
       "      <td>0.0</td>\n",
       "      <td>342.0</td>\n",
       "      <td>0.000</td>\n",
       "      <td>0.259002</td>\n",
       "    </tr>\n",
       "    <tr>\n",
       "      <th>000306d200fd6e9b03de48d15348f5c2</th>\n",
       "      <td>0.0</td>\n",
       "      <td>0.0</td>\n",
       "      <td>33.0</td>\n",
       "      <td>0.000</td>\n",
       "      <td>1.214417</td>\n",
       "    </tr>\n",
       "    <tr>\n",
       "      <th>0003f3458a6e7b495a975c2d9ddda559</th>\n",
       "      <td>2.0</td>\n",
       "      <td>285.0</td>\n",
       "      <td>343.0</td>\n",
       "      <td>88.065</td>\n",
       "      <td>1.672712</td>\n",
       "    </tr>\n",
       "    <tr>\n",
       "      <th>000784b838b807ad589d4bc69c0c562f</th>\n",
       "      <td>0.0</td>\n",
       "      <td>0.0</td>\n",
       "      <td>210.0</td>\n",
       "      <td>0.000</td>\n",
       "      <td>0.420250</td>\n",
       "    </tr>\n",
       "  </tbody>\n",
       "</table>\n",
       "</div>"
      ],
      "text/plain": [
       "                                  frequency  recency      T  monetary_value  \\\n",
       "CustomerID                                                                    \n",
       "0001117ff1305c1fe840697166e61564        1.0     11.0  344.0          87.280   \n",
       "00028502859fd7e111d88c20456b59d5        0.0      0.0  342.0           0.000   \n",
       "000306d200fd6e9b03de48d15348f5c2        0.0      0.0   33.0           0.000   \n",
       "0003f3458a6e7b495a975c2d9ddda559        2.0    285.0  343.0          88.065   \n",
       "000784b838b807ad589d4bc69c0c562f        0.0      0.0  210.0           0.000   \n",
       "\n",
       "                                  predicted_purchases  \n",
       "CustomerID                                             \n",
       "0001117ff1305c1fe840697166e61564             0.320257  \n",
       "00028502859fd7e111d88c20456b59d5             0.259002  \n",
       "000306d200fd6e9b03de48d15348f5c2             1.214417  \n",
       "0003f3458a6e7b495a975c2d9ddda559             1.672712  \n",
       "000784b838b807ad589d4bc69c0c562f             0.420250  "
      ]
     },
     "execution_count": 23,
     "metadata": {},
     "output_type": "execute_result"
    }
   ],
   "source": [
    "# check info\n",
    "summary.head()"
   ]
  },
  {
   "cell_type": "code",
   "execution_count": 24,
   "metadata": {},
   "outputs": [],
   "source": [
    "# filter out non-repeat customers\n",
    "returning_customers_summary = summary[summary['frequency'] > 0]"
   ]
  },
  {
   "cell_type": "code",
   "execution_count": 25,
   "metadata": {},
   "outputs": [
    {
     "data": {
      "text/plain": [
       "<lifetimes.GammaGammaFitter: fitted with 9647 subjects, p: 4.57, q: 3.65, v: 135.88>"
      ]
     },
     "execution_count": 25,
     "metadata": {},
     "output_type": "execute_result"
    }
   ],
   "source": [
    "ggf = GammaGammaFitter(penalizer_coef = 0)\n",
    "ggf.fit(returning_customers_summary['frequency'],\n",
    "        returning_customers_summary['monetary_value'])"
   ]
  },
  {
   "cell_type": "code",
   "execution_count": 26,
   "metadata": {},
   "outputs": [
    {
     "data": {
      "text/plain": [
       "<lifetimes.ModifiedBetaGeoFitter: fitted with 9647 subjects, a: 49.17, alpha: 258.19, b: 644.08, r: 3.51>"
      ]
     },
     "execution_count": 26,
     "metadata": {},
     "output_type": "execute_result"
    }
   ],
   "source": [
    "# refit the Modified BG model to the summary_with_money_value dataset\n",
    "mbg.fit(returning_customers_summary['frequency'], returning_customers_summary['recency'], returning_customers_summary['T'])"
   ]
  },
  {
   "cell_type": "code",
   "execution_count": 27,
   "metadata": {},
   "outputs": [],
   "source": [
    "customers_clv = ggf.customer_lifetime_value(\n",
    "    mbg, # the model to use to predict the number of future transactions\n",
    "    returning_customers_summary['frequency'],\n",
    "    returning_customers_summary['recency'],\n",
    "    returning_customers_summary['T'],\n",
    "    returning_customers_summary['monetary_value'],\n",
    "    time=12, # months\n",
    "    discount_rate=0.01 # monthly discount rate ~ 12.7% annually\n",
    ")"
   ]
  },
  {
   "cell_type": "code",
   "execution_count": 28,
   "metadata": {},
   "outputs": [
    {
     "name": "stdout",
     "output_type": "stream",
     "text": [
      "CustomerID\n",
      "ca2202a96c2de6ca6b8a37a4a73fa730    9634.406782\n",
      "089ecc49200cfe79584d0bec2a3cf8c0    8371.892570\n",
      "98f8e41f45721cbe49a3147f6cf62432    6758.647048\n",
      "60c19a709e3ced2d16d7100eb1069df5    6691.267996\n",
      "dca76db00cc59dfbcdcc97c8bbc7f9f1    6411.298498\n",
      "a5fadc51b1ae844ad9a70ad3cfa46a64    6165.725835\n",
      "24f05bfab01fef56ec049a828ebe20ab    5596.849810\n",
      "eba458987dc67827871c1d4d92e646e1    5449.298174\n",
      "cd4cb9ec252a085ed4d2d3af7c18280a    5141.141985\n",
      "fe403ffcf47b4efdf39874d181ae6da4    4827.349198\n",
      "60b884e115b971ee52f550a8b64750f4    4697.757197\n",
      "7b054e89ebafd6033a234ec267bc60b5    4637.795605\n",
      "5ac5ed64cd99ed2a8403b7a927e644ef    4617.374469\n",
      "66162981fc95e268e45bbfc738059687    4594.059697\n",
      "fc837095bb2d1f732cba3e195d9abe6e    4492.039710\n",
      "a92534133444b5028d12a129b1b128f7    4462.770223\n",
      "f09ff1c6c4ac8ea95d8621a94bb325fd    4314.977169\n",
      "922bdaa119d44065b17b0447255646ae    4202.694495\n",
      "c8fcdff9e08efe0b48f1e1f278c07e73    4179.375774\n",
      "d80a3467a4f6fa760b9b1d2769f03295    4138.381008\n",
      "741bbe09f8795badb5292473bff42ead    4086.944365\n",
      "ba5cf27a059fb5e6357dc3e7f70dbab2    3969.462562\n",
      "ede2a476c3894cf65d1619987d148422    3936.523361\n",
      "1091a17e1def85799828dadf9c28f3f2    3927.152374\n",
      "24059cf139ebf72db392442c79d5bd42    3926.460109\n",
      "80b4fe892813996f469f44c28a0d1c10    3919.726953\n",
      "a63d0d4fe5bc662678bbbe6fbde1d900    3880.685032\n",
      "2f486887c2edb2571d32c8cd15301711    3873.523852\n",
      "e2f6e9abf83c049a60caba1089a35f7d    3839.573835\n",
      "e4d423cc47a17c9ca7cea0c12e8e22be    3827.895718\n",
      "                                       ...     \n",
      "b783899d4ba9b328769e55d592fa8deb    2973.126901\n",
      "2e80c8b5d073f8310276f3ddfa2a1130    2964.549004\n",
      "30aa99d3357244cf38ca04eadef1473a    2954.215571\n",
      "a033783169cd08fea7bcc7189b4859a5    2936.558537\n",
      "42059a7ede026d409ff0f255635d7a08    2924.717572\n",
      "7863835a6120bfa52ccd665bfe03e9c8    2920.553111\n",
      "ab30a46cc9f7d41f0ee382ff9dd48ad0    2906.535401\n",
      "a62a17bb46864da2c6da691d838971b3    2904.993885\n",
      "02c2cc71c2f8268fe3dacacdd6477b82    2889.411828\n",
      "4f672b7c5d7a4214b08ec6906163c980    2842.877232\n",
      "79d35a58b719d48ca15d7a573f8a2379    2837.775083\n",
      "6b8c923eda986a36d588afcace2c9bf2    2828.518731\n",
      "ac3537cd5ecca62eb010d5fb6f9c57d2    2825.783226\n",
      "6d165923bdf6c3055311418ef905c58a    2820.985441\n",
      "bcb9bd28b8112e0060843e7239f10bff    2814.226857\n",
      "0b937997e6f55b43f95a14c1c6fe94e2    2789.286163\n",
      "0ae482faaa8baa024c5fcb1346c5f97e    2785.588420\n",
      "00ce457e45be93d9159b2c655967b897    2740.189798\n",
      "35bd91d013d04ffe65a66c2864be2c63    2737.038573\n",
      "f6605e40eff8d745345a4224a8c4abeb    2735.183030\n",
      "51ff794d843ce28fb7ca8885094979a7    2718.139735\n",
      "0f1c119f4e8c278a84267e22f732783b    2718.081413\n",
      "f183a6d07834491a3cacaef5bf2dce39    2681.177621\n",
      "5911b41fe8c5cd07a67571724f073e20    2676.171662\n",
      "b8f4ff5e0a2192aeca83d08b78ee9a56    2674.100228\n",
      "ea6bd67206a400c56a02ef8f2e4bf01e    2662.776651\n",
      "5f01420f0edda6555df5ce1cc62b986c    2646.695033\n",
      "ddbfaa20a84909a5a41f9e8f90b4d332    2641.552199\n",
      "2487b79815e1912b3295902fb9f65528    2620.213267\n",
      "10341b344304aee70989f9d9d1a90719    2618.003591\n",
      "Name: clv, Length: 100, dtype: float64\n"
     ]
    }
   ],
   "source": [
    "# list the 100 customers predicted to spend the most over the next 12 months\n",
    "print(customers_clv.sort_values(ascending=False).head(100))"
   ]
  },
  {
   "cell_type": "markdown",
   "metadata": {},
   "source": [
    "### 4. Model Assumptions\n",
    "###### Instruction: Explain the statistical assumptions that the model makes. Do you think those assumptions are valid in this case?"
   ]
  },
  {
   "cell_type": "markdown",
   "metadata": {},
   "source": [
    "##### Modified Beta-Geometric/NBD Model:\n",
    "1. While active, the number of transactions made by a customer follows a Poisson process with transaction rate $\\lambda$. This is equivalent to assuming that the time between transactions is distributed exponential with transaction rate $\\lambda$:\n",
    "$$ p(t_{j}~|~ t_{j-1} ; \\lambda) =  \\lambda e^{-\\lambda (t_{j} - t_{j-1})}, \\hspace{10mm}  t_{j} > t_{j-1} \\ge 0 \\hspace{10mm} (1)$$\n",
    "\n",
    "2. Heterogeneity in $\\lambda$ follows a gamma distribution with parameters $r$ and $\\alpha$:\n",
    "$$ p(\\lambda~|~r, \\alpha) =  \\frac{\\alpha^{r} \\lambda^{r-1} e^{-\\lambda \\alpha}}{\\Gamma \\left(r\\right) }, \\hspace{10mm} \\lambda > 0 \\hspace{10mm} (2)$$ \n",
    "\n",
    "3. After any transaction, a customer becomes inactive with probability $p$. Therefore the point at which the customer “drops out” is distributed across transactions according to a (shifted) geometric distribution with pmf: $$P(\\text{inactive immediately after jth transaction}) = p(1-p)^{j-1}, \\hspace{10mm} j=1,2,3,... \\hspace{10mm} (3)$$\n",
    "\n",
    "4. Heterogeneity in p follows a beta distribution with pdf:\n",
    "$$ f(p~|~ a, b) =  \\frac{p^{a-1} (1-p)^{b-1}}{B(a,b)}, \\hspace{10mm}  0 \\le p \\le 1 \\hspace{10mm} (4)$$\n",
    "    where ${B(a,b)}$ is the beta function, which can be expressed in terms of gamma functions: ${B(a,b)} = \\frac{\\Gamma \\left(a\\right) \\Gamma \\left(b\\right)}{\\Gamma \\left(a+b\\right)}$\n",
    "\n",
    "5. The transaction rate and the dropout probability $p$ vary independently across customers.\n",
    "\n",
    "6. Customers have chance of dropout at time zero, i.e., immediately after the first purchase of a customer.\n",
    "\n",
    "##### Gamma-Gamma Model:\n",
    "1. The monetary value (e.g, $, £, e) of a customer’s given transaction varies randomly around their average   transaction value. In other words, there is no relationship between the monetary value and the purchase frequency.\n",
    "2. Average transaction values vary across customers but do not vary over time for any given individual.\n",
    "3. The distribution of average transaction values across customers is independent of the transaction process."
   ]
  },
  {
   "cell_type": "code",
   "execution_count": 29,
   "metadata": {},
   "outputs": [
    {
     "data": {
      "text/plain": [
       "<matplotlib.axes._subplots.AxesSubplot at 0x7fd3c389be80>"
      ]
     },
     "execution_count": 29,
     "metadata": {},
     "output_type": "execute_result"
    },
    {
     "data": {
      "image/png": "[encoded data removed]",
      "text/plain": [
       "<Figure size 432x288 with 1 Axes>"
      ]
     },
     "metadata": {},
     "output_type": "display_data"
    }
   ],
   "source": [
    "# Time series of the number of transactions (daily) \n",
    "ts_transactions = df.groupby(['Timestamp']).size()\n",
    "plt.ylabel('Transaction Count')\n",
    "ts_transactions.plot()"
   ]
  },
  {
   "cell_type": "markdown",
   "metadata": {},
   "source": [
    "**1-st assumption of MBG/NBD model: the time between transactions is distributed exponential with transaction rate $\\lambda$. **\n",
    "\n",
    "**Conclusion: The assumption doesn't hold, as we can see from the graph, the transactions have seasonality.**"
   ]
  },
  {
   "cell_type": "code",
   "execution_count": 30,
   "metadata": {},
   "outputs": [
    {
     "data": {
      "text/plain": [
       "<matplotlib.axes._subplots.AxesSubplot at 0x7fd3c68a9438>"
      ]
     },
     "execution_count": 30,
     "metadata": {},
     "output_type": "execute_result"
    },
    {
     "data": {
      "image/png": "[encoded data removed]",
      "text/plain": [
       "<Figure size 432x288 with 1 Axes>"
      ]
     },
     "metadata": {},
     "output_type": "display_data"
    }
   ],
   "source": [
    "plot_transaction_rate_heterogeneity(mbg)"
   ]
  },
  {
   "cell_type": "markdown",
   "metadata": {},
   "source": [
    "**2-nd assumption of MBG/NBD model: heterogeneity in $\\lambda$ follows a gamma distribution with parameters $r$ and $\\alpha$.**\n",
    "\n",
    "**Conclusion: Not sure.**"
   ]
  },
  {
   "cell_type": "code",
   "execution_count": 31,
   "metadata": {},
   "outputs": [
    {
     "data": {
      "text/plain": [
       "<matplotlib.axes._subplots.AxesSubplot at 0x7fd3be73a550>"
      ]
     },
     "execution_count": 31,
     "metadata": {},
     "output_type": "execute_result"
    },
    {
     "data": {
      "image/png": "[encoded data removed]",
      "text/plain": [
       "<Figure size 432x288 with 1 Axes>"
      ]
     },
     "metadata": {},
     "output_type": "display_data"
    }
   ],
   "source": [
    "# Given a customer transaction history, we can calculate their historical probability of being alive,\n",
    "# according to our trained model.\n",
    "id = '60c19a709e3ced2d16d7100eb1069df5'\n",
    "days_since_birth = 400\n",
    "sp_trans = df.loc[df['CustomerID'] == id]\n",
    "plot_history_alive(mbg, days_since_birth, sp_trans, 'Timestamp')"
   ]
  },
  {
   "cell_type": "markdown",
   "metadata": {},
   "source": [
    "**The 3rd assumption of MBG/NBD model: after any transaction, a customer becomes inactive with probability $p$.**\n",
    "\n",
    "**Conclusion: I think the assumption is valid.**"
   ]
  },
  {
   "cell_type": "code",
   "execution_count": 32,
   "metadata": {},
   "outputs": [
    {
     "data": {
      "text/plain": [
       "<matplotlib.axes._subplots.AxesSubplot at 0x7fd3be742b70>"
      ]
     },
     "execution_count": 32,
     "metadata": {},
     "output_type": "execute_result"
    },
    {
     "data": {
      "image/png": "[encoded data removed]",
      "text/plain": [
       "<Figure size 432x288 with 1 Axes>"
      ]
     },
     "metadata": {},
     "output_type": "display_data"
    }
   ],
   "source": [
    "plot_dropout_rate_heterogeneity(mbg)"
   ]
  },
  {
   "cell_type": "markdown",
   "metadata": {},
   "source": [
    "**4-th assumption of MBG/NBD model: heterogeneity in p follows a beta distribution.**\n",
    "\n",
    "**Conclusion: Not sure. **"
   ]
  },
  {
   "cell_type": "code",
   "execution_count": 33,
   "metadata": {},
   "outputs": [
    {
     "data": {
      "text/html": [
       "<div>\n",
       "<style scoped>\n",
       "    .dataframe tbody tr th:only-of-type {\n",
       "        vertical-align: middle;\n",
       "    }\n",
       "\n",
       "    .dataframe tbody tr th {\n",
       "        vertical-align: top;\n",
       "    }\n",
       "\n",
       "    .dataframe thead th {\n",
       "        text-align: right;\n",
       "    }\n",
       "</style>\n",
       "<table border=\"1\" class=\"dataframe\">\n",
       "  <thead>\n",
       "    <tr style=\"text-align: right;\">\n",
       "      <th></th>\n",
       "      <th>monetary_value</th>\n",
       "      <th>frequency</th>\n",
       "    </tr>\n",
       "  </thead>\n",
       "  <tbody>\n",
       "    <tr>\n",
       "      <th>monetary_value</th>\n",
       "      <td>1.000000</td>\n",
       "      <td>0.042791</td>\n",
       "    </tr>\n",
       "    <tr>\n",
       "      <th>frequency</th>\n",
       "      <td>0.042791</td>\n",
       "      <td>1.000000</td>\n",
       "    </tr>\n",
       "  </tbody>\n",
       "</table>\n",
       "</div>"
      ],
      "text/plain": [
       "                monetary_value  frequency\n",
       "monetary_value        1.000000   0.042791\n",
       "frequency             0.042791   1.000000"
      ]
     },
     "execution_count": 33,
     "metadata": {},
     "output_type": "execute_result"
    }
   ],
   "source": [
    "# check Pearson correlation between the two vectors is close to 0 in order to use this model.\n",
    "returning_customers_summary[['monetary_value', 'frequency']].corr()"
   ]
  },
  {
   "cell_type": "markdown",
   "metadata": {},
   "source": [
    "**1-st assumption of the Gamma-Gamma model: there is no relationship between the monetary value and the purchase frequency.**\n",
    "\n",
    "**Conclusion: The assumption holds, there is almost no linear correlation between the monetary valuess and frequency. **"
   ]
  },
  {
   "cell_type": "code",
   "execution_count": 34,
   "metadata": {},
   "outputs": [
    {
     "data": {
      "text/plain": [
       "<matplotlib.axes._subplots.AxesSubplot at 0x7fd3cbe37ba8>"
      ]
     },
     "execution_count": 34,
     "metadata": {},
     "output_type": "execute_result"
    },
    {
     "data": {
      "image/png": "[encoded data removed]",
      "text/plain": [
       "<Figure size 432x288 with 1 Axes>"
      ]
     },
     "metadata": {},
     "output_type": "display_data"
    }
   ],
   "source": [
    "# df.plot('Timestamp', 'PurchaseValue')\n",
    "purchase_value_vs_time = df[['PurchaseValue', 'Timestamp']].set_index('Timestamp')\n",
    "purchase_value_vs_time.plot(title='Timestamp Vs. PurchaseValue')"
   ]
  },
  {
   "cell_type": "markdown",
   "metadata": {},
   "source": [
    "**2-nd assumption of the Gamma-Gamma model: average transaction values vary across customers but do not vary over time for any given individual.**\n",
    "\n",
    "**Conclusion: Not sure. **"
   ]
  },
  {
   "cell_type": "code",
   "execution_count": 35,
   "metadata": {},
   "outputs": [
    {
     "data": {
      "text/html": [
       "<div>\n",
       "<style scoped>\n",
       "    .dataframe tbody tr th:only-of-type {\n",
       "        vertical-align: middle;\n",
       "    }\n",
       "\n",
       "    .dataframe tbody tr th {\n",
       "        vertical-align: top;\n",
       "    }\n",
       "\n",
       "    .dataframe thead th {\n",
       "        text-align: right;\n",
       "    }\n",
       "</style>\n",
       "<table border=\"1\" class=\"dataframe\">\n",
       "  <thead>\n",
       "    <tr style=\"text-align: right;\">\n",
       "      <th></th>\n",
       "      <th>PurchaseValue_mean</th>\n",
       "      <th>PurchaseValue_count</th>\n",
       "    </tr>\n",
       "  </thead>\n",
       "  <tbody>\n",
       "    <tr>\n",
       "      <th>PurchaseValue_mean</th>\n",
       "      <td>1.000000</td>\n",
       "      <td>0.017653</td>\n",
       "    </tr>\n",
       "    <tr>\n",
       "      <th>PurchaseValue_count</th>\n",
       "      <td>0.017653</td>\n",
       "      <td>1.000000</td>\n",
       "    </tr>\n",
       "  </tbody>\n",
       "</table>\n",
       "</div>"
      ],
      "text/plain": [
       "                     PurchaseValue_mean  PurchaseValue_count\n",
       "PurchaseValue_mean             1.000000             0.017653\n",
       "PurchaseValue_count            0.017653             1.000000"
      ]
     },
     "execution_count": 35,
     "metadata": {},
     "output_type": "execute_result"
    }
   ],
   "source": [
    "df_temp = df[['CustomerID', 'PurchaseValue']].groupby(['CustomerID']).agg(['mean', 'count'])\n",
    "# flatten hierarchical index\n",
    "df_temp.columns = ['_'.join(col).strip() for col in df_temp.columns.values]\n",
    "# compute correlation between average transaction values and transaction count\n",
    "df_temp[['PurchaseValue_mean', 'PurchaseValue_count']].corr()"
   ]
  },
  {
   "cell_type": "markdown",
   "metadata": {},
   "source": [
    "**3-rd assumption of the Gamma-Gamma model: The distribution of average transaction values across customers is independent of the transaction process.**\n",
    "\n",
    "**Conclusion: The assumption holds as we don't see little correlation between average transaction values and transaction process.**"
   ]
  },
  {
   "cell_type": "markdown",
   "metadata": {},
   "source": [
    "### 5. Sample Data Generation\n",
    "###### Instruction: generate a random sample of 100 customers and simulate the total number of purchases and total number of customers alive expected after 10 days, 1 year, 10 years and 100 years. Explain how you generated your sample and why you chose this method. For this section, you will need to write code beyond what is available in the lifetimes package."
   ]
  },
  {
   "cell_type": "markdown",
   "metadata": {},
   "source": [
    "###### Basic Ideas to Generate Random Samples:\n",
    "1. Use pre-defined parameters, $r$ and $\\alpha$, to construct a gamma distribution, and draw random samples from it to use as transaction rate $\\lambda$ for each customer.\n",
    "2. Use pre-defined parameters, $a$ and $b$, to construct a beta distribution, and draw random samples from it to use as drop out probability $p$ after each transaction for each customer.\n",
    "3. Simulate transactions (without monetary value) based on its transaction rate with a dropout rate $p$ after each transaction (including immediately after the first purchase)."
   ]
  },
  {
   "cell_type": "code",
   "execution_count": 36,
   "metadata": {},
   "outputs": [],
   "source": [
    "from numpy import random\n",
    "# set random seed\n",
    "random.seed(8888)"
   ]
  },
  {
   "cell_type": "markdown",
   "metadata": {},
   "source": [
    "###### Simulating a Poisson process at rate λ up to time T:\n",
    "1. t = 0, records = []\n",
    "2. Generate U\n",
    "3. Generate alive\n",
    "4. t = t + [−(1/λ) ln (U)]. If t > T and alive, then stop\n",
    "5. Append t to records\n",
    "6. Go back to 2"
   ]
  },
  {
   "cell_type": "code",
   "execution_count": 37,
   "metadata": {},
   "outputs": [],
   "source": [
    "def transactions_up_to_time(T, lambda_, p):\n",
    "    \"\"\"\n",
    "    Generate artificial data by the poisson process.\n",
    "    \n",
    "    Parameters\n",
    "    ----------\n",
    "    T: int\n",
    "        Observation window.\n",
    "    lambda_: float\n",
    "        Transaction rate.\n",
    "    p: int\n",
    "        Dropout rate.\n",
    "    ----------\n",
    "    \n",
    "    Return\n",
    "    ----------\n",
    "    array:\n",
    "        A list of timestamps for each transaction.\n",
    "    int:\n",
    "        Whether the person is still alive at the end of observatio period.\n",
    "    ----------\n",
    "    \"\"\"\n",
    "    \n",
    "    t = 0\n",
    "    records = []\n",
    "    \n",
    "    U = np.random.uniform(0,1)\n",
    "    t = t -(1.0 / lambda_) * math.log(U)\n",
    "    \n",
    "    # simulate the drop out probability after 1st transaction\n",
    "    alive = random.random() > p\n",
    "    \n",
    "    while (t <= T) and alive:\n",
    "        records.append(t)\n",
    "        \n",
    "        U = np.random.uniform(0,1)\n",
    "        t = t + (-(1.0 / lambda_) * math.log(U))\n",
    "        \n",
    "        alive = random.random() > p\n",
    "    \n",
    "    return records, alive"
   ]
  },
  {
   "cell_type": "code",
   "execution_count": 38,
   "metadata": {},
   "outputs": [],
   "source": [
    "def transaction_times_before_death(p):\n",
    "    \"\"\"\n",
    "    Generate the max number of transactions from a geometric distribution.\n",
    "    \n",
    "    Parameters\n",
    "    ----------\n",
    "    p: float\n",
    "        Drop out rate.\n",
    "    ----------\n",
    "    \n",
    "    Return\n",
    "    ----------\n",
    "    int\n",
    "        Max number of transactions for a person.\n",
    "    ----------\n",
    "    \"\"\"\n",
    "    return np.random.geometric(p)\n"
   ]
  },
  {
   "cell_type": "code",
   "execution_count": 39,
   "metadata": {},
   "outputs": [],
   "source": [
    "def drop_out_probability(a,b):\n",
    "    \"\"\"\n",
    "    Generate drop out probability from a beta distribution.\n",
    "    \n",
    "    Parameters\n",
    "    ----------\n",
    "    a, b: float\n",
    "        Parameters for a beta distribution.\n",
    "    ----------\n",
    "    \n",
    "    Return\n",
    "    ----------\n",
    "    float\n",
    "        Drop out probability after each purchase.\n",
    "    ----------\n",
    "    \"\"\"\n",
    "    return np.random.beta(a, b)"
   ]
  },
  {
   "cell_type": "code",
   "execution_count": 40,
   "metadata": {},
   "outputs": [],
   "source": [
    "def transaction_rate(r, alpha):\n",
    "    \"\"\"\n",
    "    Generate transaction rate from a gamma distribution.\n",
    "    \n",
    "    Parameters\n",
    "    ----------\n",
    "    r, alpha: float\n",
    "        Parameters for a gamma distribution.\n",
    "    ----------\n",
    "    \n",
    "    Return\n",
    "    ----------\n",
    "    float\n",
    "        Transaction rate for a person.\n",
    "    ----------\n",
    "    \"\"\"\n",
    "    return np.random.gamma(r, scale = 1.0 / alpha)"
   ]
  },
  {
   "cell_type": "markdown",
   "metadata": {},
   "source": [
    "###### Simulation Ideas:\n",
    "1. Given observation window $T$, generate transaction records using poission process haivng observation window $T$, denoted as ${T_1, T_2, T_3, ..., T_n}$, n is the number of transactions during the observation period.\n",
    "2. Determine the max number of transactions, $t_{max}$, a person can have during its lifetime based on a geometric distribution.\n",
    "3. Define number of transactions to be $\\min\\{n, t_{max}\\}$.\n",
    "5. Accumulate the number of transactions and the number of customers alive.\n",
    "6. Repeat step 1 to step 5 for 1000 rounds.\n",
    "7. Calculate expected values."
   ]
  },
  {
   "cell_type": "code",
   "execution_count": 41,
   "metadata": {},
   "outputs": [],
   "source": [
    "def simulate(a, b, r, alpha, size, T_arr, round_):\n",
    "    \"\"\"\n",
    "    Simulate the total number of purchases and total number of customers alive expected after certain time.\n",
    "    \n",
    "    Parameters\n",
    "    ----------\n",
    "    a, b: float\n",
    "        Parameters for a beta distribution.\n",
    "    r, alpha: float\n",
    "        Parameters for a gamma distribution.\n",
    "    size: int\n",
    "        Number of customers.\n",
    "    T_arr: array\n",
    "        List of differnt time periods.\n",
    "    round_: int\n",
    "        Number of iteration.\n",
    "    ----------\n",
    "    \"\"\"\n",
    "    records = []\n",
    "    \n",
    "    transactions_total = 0\n",
    "    alive_total = 0\n",
    "    \n",
    "    for T in T_arr:\n",
    "        for epoch in range(round_):\n",
    "            for i in range(size):\n",
    "                p = drop_out_probability(a, b)\n",
    "                lambda_ = transaction_rate(r, alpha)\n",
    "                \n",
    "                records, alive = transactions_up_to_time(T, lambda_, p)\n",
    "                transaction_times_life = transaction_times_before_death(p)\n",
    "                \n",
    "                transactions_count = min(len(records), transaction_times_life)\n",
    "                \n",
    "                transactions_total += transactions_count\n",
    "                alive_total += alive\n",
    "        \n",
    "        # compute expected values\n",
    "        expected_transactions = transactions_total / round_\n",
    "        expected_alive = alive_total / round_\n",
    "        \n",
    "        # clear counters\n",
    "        transactions_total = 0\n",
    "        alive_total = 0\n",
    "        \n",
    "        print(\"-----------------Observation Period: \" + str(T) + \" days-----------------\")\n",
    "        print(\"expected total number of purchases: \", expected_transactions)\n",
    "        print(\"expected total number of customers alive: \", expected_alive)\n",
    "        print()"
   ]
  },
  {
   "cell_type": "code",
   "execution_count": 42,
   "metadata": {},
   "outputs": [
    {
     "name": "stdout",
     "output_type": "stream",
     "text": [
      "-----------------Observation Period: 10 days-----------------\n",
      "expected total number of purchases:  5.8\n",
      "expected total number of customers alive:  65.231\n",
      "\n",
      "-----------------Observation Period: 365 days-----------------\n",
      "expected total number of purchases:  107.998\n",
      "expected total number of customers alive:  41.768\n",
      "\n",
      "-----------------Observation Period: 3650 days-----------------\n",
      "expected total number of purchases:  287.866\n",
      "expected total number of customers alive:  15.502\n",
      "\n",
      "-----------------Observation Period: 36500 days-----------------\n",
      "expected total number of purchases:  513.294\n",
      "expected total number of customers alive:  3.649\n",
      "\n"
     ]
    }
   ],
   "source": [
    "a = 1.0\n",
    "b = 2.0\n",
    "r = 0.79\n",
    "alpha = 85.27\n",
    "size = 100\n",
    "T_arr = [10 * 1, 365 * 1, 365 * 10, 365 * 100]\n",
    "round_ = 1000\n",
    "\n",
    "simulate(a, b, r, alpha, size, T_arr, round_)"
   ]
  },
  {
   "cell_type": "markdown",
   "metadata": {},
   "source": [
    "### 6. Model Evaluation\n",
    "###### Instruction: The model works well in some ways and poorly in others for the data we provide. Explain what it does a well and what it does poorly.\n",
    "\n",
    "With transactional data, we can partition the dataset into a calibration period dataset and a holdout dataset. This is important as we want to test how our model performs on data not yet seen (just like cross-validation in standard machine learning literature). "
   ]
  },
  {
   "cell_type": "code",
   "execution_count": 43,
   "metadata": {},
   "outputs": [
    {
     "name": "stdout",
     "output_type": "stream",
     "text": [
      "begin:  2016-11-30 04:47:00\n",
      "end:  2017-12-06 17:53:00\n"
     ]
    }
   ],
   "source": [
    "# date range of the dataset:\n",
    "print(\"begin: \", df['Timestamp'].min())\n",
    "print(\"end: \", df['Timestamp'].max())"
   ]
  },
  {
   "cell_type": "code",
   "execution_count": 44,
   "metadata": {},
   "outputs": [],
   "source": [
    "# use half of the data to train the model and half of the data to test the model\n",
    "# resample the data by the unit of day\n",
    "summary_cal_holdout = calibration_and_holdout_data(df, 'CustomerID', 'Timestamp',\n",
    "                                                    calibration_period_end=pd.to_datetime('2017-06-01'),\n",
    "                                                    observation_period_end=pd.to_datetime('2017-12-06'),\n",
    "                                                    freq='D')"
   ]
  },
  {
   "cell_type": "code",
   "execution_count": 45,
   "metadata": {},
   "outputs": [
    {
     "data": {
      "text/html": [
       "<div>\n",
       "<style scoped>\n",
       "    .dataframe tbody tr th:only-of-type {\n",
       "        vertical-align: middle;\n",
       "    }\n",
       "\n",
       "    .dataframe tbody tr th {\n",
       "        vertical-align: top;\n",
       "    }\n",
       "\n",
       "    .dataframe thead th {\n",
       "        text-align: right;\n",
       "    }\n",
       "</style>\n",
       "<table border=\"1\" class=\"dataframe\">\n",
       "  <thead>\n",
       "    <tr style=\"text-align: right;\">\n",
       "      <th></th>\n",
       "      <th>frequency_cal</th>\n",
       "      <th>recency_cal</th>\n",
       "      <th>T_cal</th>\n",
       "      <th>frequency_holdout</th>\n",
       "      <th>duration_holdout</th>\n",
       "    </tr>\n",
       "    <tr>\n",
       "      <th>CustomerID</th>\n",
       "      <th></th>\n",
       "      <th></th>\n",
       "      <th></th>\n",
       "      <th></th>\n",
       "      <th></th>\n",
       "    </tr>\n",
       "  </thead>\n",
       "  <tbody>\n",
       "    <tr>\n",
       "      <th>0001117ff1305c1fe840697166e61564</th>\n",
       "      <td>1.0</td>\n",
       "      <td>11.0</td>\n",
       "      <td>156.0</td>\n",
       "      <td>0.0</td>\n",
       "      <td>188</td>\n",
       "    </tr>\n",
       "    <tr>\n",
       "      <th>00028502859fd7e111d88c20456b59d5</th>\n",
       "      <td>0.0</td>\n",
       "      <td>0.0</td>\n",
       "      <td>154.0</td>\n",
       "      <td>0.0</td>\n",
       "      <td>188</td>\n",
       "    </tr>\n",
       "    <tr>\n",
       "      <th>0003f3458a6e7b495a975c2d9ddda559</th>\n",
       "      <td>1.0</td>\n",
       "      <td>2.0</td>\n",
       "      <td>155.0</td>\n",
       "      <td>1.0</td>\n",
       "      <td>188</td>\n",
       "    </tr>\n",
       "    <tr>\n",
       "      <th>000784b838b807ad589d4bc69c0c562f</th>\n",
       "      <td>0.0</td>\n",
       "      <td>0.0</td>\n",
       "      <td>22.0</td>\n",
       "      <td>0.0</td>\n",
       "      <td>188</td>\n",
       "    </tr>\n",
       "    <tr>\n",
       "      <th>000ad0f90e9fcb6ff5a0bc480cccbdb3</th>\n",
       "      <td>1.0</td>\n",
       "      <td>4.0</td>\n",
       "      <td>12.0</td>\n",
       "      <td>4.0</td>\n",
       "      <td>188</td>\n",
       "    </tr>\n",
       "  </tbody>\n",
       "</table>\n",
       "</div>"
      ],
      "text/plain": [
       "                                  frequency_cal  recency_cal  T_cal  \\\n",
       "CustomerID                                                            \n",
       "0001117ff1305c1fe840697166e61564            1.0         11.0  156.0   \n",
       "00028502859fd7e111d88c20456b59d5            0.0          0.0  154.0   \n",
       "0003f3458a6e7b495a975c2d9ddda559            1.0          2.0  155.0   \n",
       "000784b838b807ad589d4bc69c0c562f            0.0          0.0   22.0   \n",
       "000ad0f90e9fcb6ff5a0bc480cccbdb3            1.0          4.0   12.0   \n",
       "\n",
       "                                  frequency_holdout  duration_holdout  \n",
       "CustomerID                                                             \n",
       "0001117ff1305c1fe840697166e61564                0.0               188  \n",
       "00028502859fd7e111d88c20456b59d5                0.0               188  \n",
       "0003f3458a6e7b495a975c2d9ddda559                1.0               188  \n",
       "000784b838b807ad589d4bc69c0c562f                0.0               188  \n",
       "000ad0f90e9fcb6ff5a0bc480cccbdb3                4.0               188  "
      ]
     },
     "execution_count": 45,
     "metadata": {},
     "output_type": "execute_result"
    }
   ],
   "source": [
    "summary_cal_holdout.head()"
   ]
  },
  {
   "cell_type": "code",
   "execution_count": 46,
   "metadata": {},
   "outputs": [
    {
     "data": {
      "text/plain": [
       "<matplotlib.axes._subplots.AxesSubplot at 0x7fd3c6087630>"
      ]
     },
     "execution_count": 46,
     "metadata": {},
     "output_type": "execute_result"
    },
    {
     "data": {
      "image/png": "[encoded data removed]",
      "text/plain": [
       "<Figure size 432x288 with 1 Axes>"
      ]
     },
     "metadata": {},
     "output_type": "display_data"
    }
   ],
   "source": [
    "mbg.fit(summary_cal_holdout['frequency_cal'], summary_cal_holdout['recency_cal'], summary_cal_holdout['T_cal'])\n",
    "plot_calibration_purchases_vs_holdout_purchases(mbg, summary_cal_holdout)"
   ]
  },
  {
   "cell_type": "markdown",
   "metadata": {},
   "source": [
    "###### Conclusion 1: The MBG/NBD model works pretty well when the purchase frequency is low. But it is not so good when the purchases frequency is high."
   ]
  },
  {
   "cell_type": "code",
   "execution_count": 47,
   "metadata": {},
   "outputs": [],
   "source": [
    "# in this case, we resample the data by the unit of week\n",
    "summary_cal_holdout_w = calibration_and_holdout_data(df, 'CustomerID', 'Timestamp',\n",
    "                                        calibration_period_end=pd.to_datetime('2017-06-01'),\n",
    "                                        observation_period_end=pd.to_datetime('2017-12-06'),\n",
    "                                        freq='W')"
   ]
  },
  {
   "cell_type": "code",
   "execution_count": 48,
   "metadata": {},
   "outputs": [
    {
     "data": {
      "text/html": [
       "<div>\n",
       "<style scoped>\n",
       "    .dataframe tbody tr th:only-of-type {\n",
       "        vertical-align: middle;\n",
       "    }\n",
       "\n",
       "    .dataframe tbody tr th {\n",
       "        vertical-align: top;\n",
       "    }\n",
       "\n",
       "    .dataframe thead th {\n",
       "        text-align: right;\n",
       "    }\n",
       "</style>\n",
       "<table border=\"1\" class=\"dataframe\">\n",
       "  <thead>\n",
       "    <tr style=\"text-align: right;\">\n",
       "      <th></th>\n",
       "      <th>frequency_cal</th>\n",
       "      <th>recency_cal</th>\n",
       "      <th>T_cal</th>\n",
       "      <th>frequency_holdout</th>\n",
       "      <th>duration_holdout</th>\n",
       "    </tr>\n",
       "    <tr>\n",
       "      <th>CustomerID</th>\n",
       "      <th></th>\n",
       "      <th></th>\n",
       "      <th></th>\n",
       "      <th></th>\n",
       "      <th></th>\n",
       "    </tr>\n",
       "  </thead>\n",
       "  <tbody>\n",
       "    <tr>\n",
       "      <th>0001117ff1305c1fe840697166e61564</th>\n",
       "      <td>1.0</td>\n",
       "      <td>1.0</td>\n",
       "      <td>22.0</td>\n",
       "      <td>0.0</td>\n",
       "      <td>27</td>\n",
       "    </tr>\n",
       "    <tr>\n",
       "      <th>00028502859fd7e111d88c20456b59d5</th>\n",
       "      <td>0.0</td>\n",
       "      <td>0.0</td>\n",
       "      <td>22.0</td>\n",
       "      <td>0.0</td>\n",
       "      <td>27</td>\n",
       "    </tr>\n",
       "    <tr>\n",
       "      <th>0003f3458a6e7b495a975c2d9ddda559</th>\n",
       "      <td>0.0</td>\n",
       "      <td>0.0</td>\n",
       "      <td>22.0</td>\n",
       "      <td>1.0</td>\n",
       "      <td>27</td>\n",
       "    </tr>\n",
       "    <tr>\n",
       "      <th>000784b838b807ad589d4bc69c0c562f</th>\n",
       "      <td>0.0</td>\n",
       "      <td>0.0</td>\n",
       "      <td>3.0</td>\n",
       "      <td>0.0</td>\n",
       "      <td>27</td>\n",
       "    </tr>\n",
       "    <tr>\n",
       "      <th>000ad0f90e9fcb6ff5a0bc480cccbdb3</th>\n",
       "      <td>1.0</td>\n",
       "      <td>1.0</td>\n",
       "      <td>2.0</td>\n",
       "      <td>3.0</td>\n",
       "      <td>27</td>\n",
       "    </tr>\n",
       "  </tbody>\n",
       "</table>\n",
       "</div>"
      ],
      "text/plain": [
       "                                  frequency_cal  recency_cal  T_cal  \\\n",
       "CustomerID                                                            \n",
       "0001117ff1305c1fe840697166e61564            1.0          1.0   22.0   \n",
       "00028502859fd7e111d88c20456b59d5            0.0          0.0   22.0   \n",
       "0003f3458a6e7b495a975c2d9ddda559            0.0          0.0   22.0   \n",
       "000784b838b807ad589d4bc69c0c562f            0.0          0.0    3.0   \n",
       "000ad0f90e9fcb6ff5a0bc480cccbdb3            1.0          1.0    2.0   \n",
       "\n",
       "                                  frequency_holdout  duration_holdout  \n",
       "CustomerID                                                             \n",
       "0001117ff1305c1fe840697166e61564                0.0                27  \n",
       "00028502859fd7e111d88c20456b59d5                0.0                27  \n",
       "0003f3458a6e7b495a975c2d9ddda559                1.0                27  \n",
       "000784b838b807ad589d4bc69c0c562f                0.0                27  \n",
       "000ad0f90e9fcb6ff5a0bc480cccbdb3                3.0                27  "
      ]
     },
     "execution_count": 48,
     "metadata": {},
     "output_type": "execute_result"
    }
   ],
   "source": [
    "summary_cal_holdout_w.head()"
   ]
  },
  {
   "cell_type": "code",
   "execution_count": 49,
   "metadata": {},
   "outputs": [
    {
     "data": {
      "text/plain": [
       "<matplotlib.axes._subplots.AxesSubplot at 0x7fd3c67d9550>"
      ]
     },
     "execution_count": 49,
     "metadata": {},
     "output_type": "execute_result"
    },
    {
     "data": {
      "image/png": "[encoded data removed]",
      "text/plain": [
       "<Figure size 432x288 with 1 Axes>"
      ]
     },
     "metadata": {},
     "output_type": "display_data"
    }
   ],
   "source": [
    "mbg.fit(summary_cal_holdout_w['frequency_cal'], summary_cal_holdout_w['recency_cal'], summary_cal_holdout_w['T_cal'], )\n",
    "plot_calibration_purchases_vs_holdout_purchases(mbg, summary_cal_holdout_w)"
   ]
  },
  {
   "cell_type": "markdown",
   "metadata": {},
   "source": [
    "###### Conclusion 2: The MBG/NBD model perform better when predicting weekly repeat purchases."
   ]
  },
  {
   "cell_type": "code",
   "execution_count": 50,
   "metadata": {},
   "outputs": [],
   "source": [
    "# try to change the calibration period\n",
    "summary_cal_holdout_2 = calibration_and_holdout_data(df, 'CustomerID', 'Timestamp',\n",
    "                                        calibration_period_end=pd.to_datetime('2017-09-01'),\n",
    "                                        observation_period_end=pd.to_datetime('2017-12-06'),\n",
    "                                        freq='W')"
   ]
  },
  {
   "cell_type": "code",
   "execution_count": 51,
   "metadata": {},
   "outputs": [
    {
     "data": {
      "text/plain": [
       "<matplotlib.axes._subplots.AxesSubplot at 0x7fd3c67bba90>"
      ]
     },
     "execution_count": 51,
     "metadata": {},
     "output_type": "execute_result"
    },
    {
     "data": {
      "image/png": "[encoded data removed]",
      "text/plain": [
       "<Figure size 432x288 with 1 Axes>"
      ]
     },
     "metadata": {},
     "output_type": "display_data"
    }
   ],
   "source": [
    "mbg.fit(summary_cal_holdout_2['frequency_cal'], summary_cal_holdout_2['recency_cal'], summary_cal_holdout_2['T_cal'], )\n",
    "plot_calibration_purchases_vs_holdout_purchases(mbg, summary_cal_holdout_2)"
   ]
  },
  {
   "cell_type": "markdown",
   "metadata": {},
   "source": [
    "###### As we can see from the graph, the model performs extremely well during the holdout period.\n",
    "###### Conclusion 3: How to set the calibration and holdout periods matter for the MBG/NBD model.\n",
    "###### Conclusion 4: The MBG/NBD model can only catch the normal purchasing behaviors and it is insensitive to seasonality (e.g. promotions)."
   ]
  },
  {
   "cell_type": "markdown",
   "metadata": {},
   "source": [
    "### 7. Model Improvement\n",
    "###### Instruction: The model works well in some ways and poorly in others for the data we provide. Explain what it does a well and what it does poorly."
   ]
  },
  {
   "cell_type": "markdown",
   "metadata": {},
   "source": [
    "###### Ideas: to conquer the deficiency of low predicion accuracy for high purchase frequency, we might want to cluster the customer into three categories (low, medium, high purchase frequency). And train 3 models seperately to predict customer purchases in the different categories. "
   ]
  },
  {
   "cell_type": "markdown",
   "metadata": {},
   "source": [
    "### 8. Classification Algorithms Evaluation\n",
    "###### Suppose the intended use of the model is binning customers into one of the following categories: highly likely to purchase in the next year, somewhat likely to purchase in the next year, unlikely to purchase in the next year, highly unlikely to purchase in the next year. Suppose you want to compare this model with a model your colleague is proposing. How would you evaluate the two models? Do not implement, but do show a mockup of the results of your evaluation."
   ]
  },
  {
   "cell_type": "markdown",
   "metadata": {},
   "source": [
    "There are several ideas I can think of:\n",
    "1. Train/test split. Split the dataset into two pieces, so that the model can be trained and tested on different data.\n",
    "2. Confusion matrix. Compare metrics, such as, accuracy, misclassification rate, true positive rate, false positive rate, true negative rate, and precision.\n",
    "3. AUC - ROC Curves. It tells how much model is capable of distinguishing between classes. Higher the AUC, better the model is at predicting 0s as 0s and 1s as 1s."
   ]
  },
  {
   "cell_type": "markdown",
   "metadata": {},
   "source": [
    "### Confusion Matrix\n",
    "Confusion matrix allows us to compare common metrics, such as, accuracy, misclassification rate, true positive rate, false positive rate, true negative rate, and precision. In this case, we will generate multi-class confusion matrix. e.g.\n",
    "\n",
    "| | Predicted: highly likely | Predicted: somewhat likely | Predicted: unlikely | Predicted: highly unlikely\n",
    "| --- | --- | --- | --- | --- |\n",
    "| Actual: highly likely | a | b | c | d\n",
    "| Actual: somewhat likely | a | b | c | d\n",
    "| Actual: unlikely | a | b | c | d\n",
    "| Actual: highly unlikely | a | b | c | d\n"
   ]
  },
  {
   "attachments": {
    "image.png": {
     "image/png": "[encoded data removed]"
    }
   },
   "cell_type": "markdown",
   "metadata": {},
   "source": [
    "### AUC - ROC Curves\n",
    "AUC-ROC Curves tell how much model is capable of distinguishing between classes. Higher the AUC, better the model is at predicting 0s as 0s and 1s as 1s. We can generate multi-class AUC-ROC curves to compare two models. Just like the picutures showing below.\n",
    "![image.png](attachment:image.png)\n",
    "![image.png](attachment:image.png)\n",
    "![image.png](attachment:image.png)"
   ]
  },
  {
   "cell_type": "markdown",
   "metadata": {},
   "source": [
    "### References\n",
    "1. oreilly-intro-to-predictive-clv. (https://github.com/datascienceinc/oreilly-intro-to-predictive-clv/)\n",
    "2. Lifetime value in Python. (https://github.com/CamDavidsonPilon/lifetimes/)\n",
    "3. '\"Counting Your Customers\" the Easy Way: An Alternative to the Pareto/NBD Model' (http://brucehardie.com/papers/bgnbd_2004-04-20.pdf)\n",
    "4. Batislam, E.P., M. Denizel, A. Filiztekin (2007), \"Empirical validation and comparison of models for customer base analysis,\" International Journal of Research in Marketing, 24 (3), 201-209. (https://www.sciencedirect.com/science/article/pii/S0167811607000171)\n",
    "5. Poisson processes, and Compound (batch) Poisson processes. (http://www.columbia.edu/~ks20/4703-Sigman/4703-07-Notes-PP-NSPP.pdf)\n",
    "6. Evaluating a Classification Model. (https://www.ritchieng.com/machine-learning-evaluate-classification-model/)\n",
    "7. Sklearn: ROC for multiclass classification. (https://stackoverflow.com/questions/45332410/sklearn-roc-for-multiclass-classification)"
   ]
  }
 ],
 "metadata": {
  "kernelspec": {
   "display_name": "Python 3",
   "language": "python",
   "name": "python3"
  },
  "language_info": {
   "codemirror_mode": {
    "name": "ipython",
    "version": 3
   },
   "file_extension": ".py",
   "mimetype": "text/x-python",
   "name": "python",
   "nbconvert_exporter": "python",
   "pygments_lexer": "ipython3",
   "version": "3.6.5"
  }
 },
 "nbformat": 4,
 "nbformat_minor": 2
}
